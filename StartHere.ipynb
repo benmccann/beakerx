{
 "cells": [
  {
   "cell_type": "markdown",
   "metadata": {},
   "source": [
    "# Tutorials, Examples, and Demos\n",
    "\n",
    "[Jupyter](http://jupyter.org/) and [BeakerX](http://beakerx.com/) are based on the idea of the lab notebook, brought to life in your web browser. Each notebook is a place for recording the written ideas, data, images, spreadsheets, diagrams, equations, and especially code, that one produces in the course of research. You can analyze, visualize, and document data and science, using multiple programming languages.  BeakerX is an extension of Jupyter, including kernels for the JVM langauges, autotranslation between languages, interactive plots, tables, and more.\n",
    "\n",
    "This is a beta release. There are known issues, please see our [issue tracker](https://github.com/twosigma/beakerx/issues). Your [email feedback](mailto:beakerx-feedback@twosigma.com) is most welcome as it guides development and helps us improve.\n",
    "\n",
    "[The Jupyter documentation](http://jupyter-notebook.readthedocs.io/en/latest/examples/Notebook/Running%20Code.html) covers interacting with code cells, markdown, and notebooks. The tutorials below show the features of the BeakerX extension.\n",
    "\n",
    "### Languages\n",
    "[Groovy](doc/groovy/Groovy.ipynb), [Java](doc/java/Java.ipynb), [Scala](doc/scala/Scala.ipynb), [Clojure](doc/clojure/Clojure.ipynb), [SQL](doc/sql/SQL.ipynb), [Kotlin](doc/kotlin/Kotlin.ipynb).\n",
    "\n",
    "### Magics\n",
    "[Timing](doc/groovy/TimeExecutionMeasurementWithMagicCommands.ipynb), [Classpath and Imports](doc/groovy/AddJarToClasspathMagicCommands.ipynb), [Properties, Heap Size and other JVM parameters](doc/groovy/java_args.ipynb), [Defining New Magics](doc/groovy/LoadMagicCommand.ipynb).\n",
    "\n",
    "### Autotranslation\n",
    "[Python](doc/python/autotranslation_python.ipynb), [Groovy](doc/groovy/autotranslation_groovy_demo.ipynb)\n",
    "\n",
    "### Groovy Plotting and Charting\n",
    "[Example and Interaction](doc/groovy/chartingTutorial.ipynb), [Time Series and General APIs and Features](doc/groovy/PlotFeatures.ipynb), [Category Plots and Bar Charts](doc/groovy/categoryPlot.ipynb), [Levels of Detail](doc/groovy/levelsOfDetails.ipynb), [Histograms](doc/groovy/histogram.ipynb), [Heatmaps](doc/groovy/heatmap.ipynb), [Treemaps](doc/groovy/treemap.ipynb), [Plot Actions](doc/groovy/plotActions.ipynb), [Plot Seamless Updates](doc/groovy/Plots_python_style.ipynb), [Second Y Axis](doc/groovy/2ndYaxis.ipynb).\n",
    "\n",
    "### Table Display\n",
    "[Groovy API including Actions](doc/groovy/tableApi.ipynb), [64-Bit Integers and BigNums](doc/groovy/bigInts.ipynb), [Automatic Display of Simple Data Structures](doc/groovy/MapLikeTable.ipynb), [Handling of Large Tables](doc/groovy/big_table_test.ipynb).\n",
    "\n",
    "### BeakerX Plotting in Other Languages\n",
    "[JavaScript](doc/python/plot-js-api.ipynb), [Python](doc/python/pythonChartingAPI.ipynb), [Scala](doc/scala/Plot.ipynb).\n",
    "\n",
    "### Python\n",
    "\n",
    "[Tables including pandas integration](doc/python/tableApi_python.ipynb), [Time Series](doc/python/pythonChartingAPI.ipynb), [Heatmaps](doc/python/heatmap_python.ipynb),  [Category Plots](doc/python/categoryPlot_python.ipynb), [Treemaps](doc/python/treemap_python.ipynb), [Histograms](doc/python/histogram_python.ipynb), [EasyForm](doc/python/EasyFormPythonDemos.ipynb), [Output Containers](doc/python/OutputContainersAndLayoutManagers_python.ipynb).\n",
    "\n",
    "### Scala\n",
    "[Tables](doc/scala/TableApi.ipynb), [Plotting](doc/scala/Plot.ipynb), [EasyForm](doc/scala/ScalaDemos.ipynb).\n",
    "\n",
    "### Media Outputs and Displayer Customization\n",
    "\n",
    "[Media and MIME Outputs](doc/groovy/Mime.ipynb), [Display of Null](doc/groovy/showNullExecutionResult.ipynb), [Custom Displayers and `jvm-repr`](doc/groovy/JvmRepr.ipynb).\n",
    "\n",
    "### Forms, Widgets, and Interaction\n",
    "[EasyForm](doc/groovy/EasyFormDemos.ipynb), [Output Containers and Layout Managers](doc/groovy/OutputContainersAndLayoutManagers.ipynb), [Groovy interface to Jupyter JS Widgets](doc/groovy/JavaWidgets.ipynb), [Interactive recomputation](doc/groovy/interactive.ipynb).\n",
    "\n",
    "### Automation\n",
    "[Progress Reporting API](doc/groovy/ProgressUpdateReporting.ipynb), [Initialization Cells](doc/python/init-cells.ipynb), [Get Code](doc/groovy/CodeCell.ipynb).\n",
    "\n",
    "### Tablesaw\n",
    "[Tablesaw](doc/groovy/Tablesaw.ipynb) Pandas for the JVM.\n",
    "\n",
    "### Deeplearning4j and DataVec\n",
    "[DataVec, including automatic display](doc/groovy/DataVec.ipynb).\n",
    "\n",
    "## Learn More\n",
    "On the web at the homepage [BeakerX.com](http://beakerx.com), on [GitHub](https://github.com/twosigma/beakerx), and on [Two Sigma's Open Source site](http://opensource.twosigma.com/).\n",
    "\n",
    "## Open Source\n",
    "BeakerX's full source code and documentation are available on [GitHub](https://github.com/twosigma/beakerx) under the Apache 2.0 license."
   ]
  },
  {
   "cell_type": "code",
   "execution_count": null,
   "metadata": {
    "collapsed": true
   },
   "outputs": [],
   "source": []
  }
 ],
 "metadata": {
  "kernelspec": {
   "display_name": "Python 3",
   "language": "python",
   "name": "python3"
  },
  "language_info": {
   "codemirror_mode": {
    "name": "ipython",
    "version": 3
   },
   "file_extension": ".py",
   "mimetype": "text/x-python",
   "name": "python",
   "nbconvert_exporter": "python",
   "pygments_lexer": "ipython3",
   "version": "3.5.4"
  }
 },
 "nbformat": 4,
 "nbformat_minor": 2
}
